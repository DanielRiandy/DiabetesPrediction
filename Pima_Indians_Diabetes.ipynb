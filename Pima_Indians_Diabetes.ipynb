{
  "cells": [
    {
      "cell_type": "markdown",
      "metadata": {
        "id": "nPO-CA7iHUJx"
      },
      "source": [
        "# Background"
      ]
    },
    {
      "cell_type": "markdown",
      "metadata": {
        "id": "di5M-mwEHfMO"
      },
      "source": [
        "Diabetes adalah kondisi di mana tubuh tidak\n",
        "dapat memproduksi atau menggunakan\n",
        "insulin dengan efektif, menyebabkan\n",
        "tingginya kadar gula (glukosa) dalam darah.\n",
        "Hal ini terjadi ketika tubuh tidak mampu\n",
        "memproduksi atau menggunakan insulin\n",
        "dengan efektif.\n",
        "\n",
        "\n",
        "\n",
        "\n",
        "\n"
      ]
    },
    {
      "cell_type": "markdown",
      "metadata": {
        "id": "Z0vqgFMIHXIr"
      },
      "source": [
        "# Objective"
      ]
    },
    {
      "cell_type": "markdown",
      "metadata": {
        "id": "G1NuYngqWra6"
      },
      "source": [
        "# Import Library"
      ]
    },
    {
      "cell_type": "code",
      "execution_count": 1,
      "metadata": {
        "id": "FqnXmQm6EJs8"
      },
      "outputs": [],
      "source": [
        "import numpy as np\n",
        "import pandas as pd\n",
        "import matplotlib.pyplot as plt\n",
        "import seaborn as sns\n",
        "sns.set_style(\"darkgrid\")\n",
        "\n",
        "from sklearn.preprocessing import StandardScaler\n",
        "from sklearn.model_selection import train_test_split\n",
        "from sklearn.metrics import confusion_matrix, classification_report\n",
        "\n",
        "from keras.models import Sequential\n",
        "from keras.layers import Dense"
      ]
    },
    {
      "cell_type": "markdown",
      "metadata": {
        "id": "k8C_b1UxW8Jh"
      },
      "source": [
        "# EDA & Data Preparation"
      ]
    },
    {
      "cell_type": "code",
      "execution_count": 4,
      "metadata": {
        "colab": {
          "base_uri": "https://localhost:8080/",
          "height": 423
        },
        "id": "Y-mcnz8QEtxA",
        "outputId": "fe488644-04d8-412e-efc9-c2f1b0aecb92"
      },
      "outputs": [
        {
          "data": {
            "text/html": [
              "<div>\n",
              "<style scoped>\n",
              "    .dataframe tbody tr th:only-of-type {\n",
              "        vertical-align: middle;\n",
              "    }\n",
              "\n",
              "    .dataframe tbody tr th {\n",
              "        vertical-align: top;\n",
              "    }\n",
              "\n",
              "    .dataframe thead th {\n",
              "        text-align: right;\n",
              "    }\n",
              "</style>\n",
              "<table border=\"1\" class=\"dataframe\">\n",
              "  <thead>\n",
              "    <tr style=\"text-align: right;\">\n",
              "      <th></th>\n",
              "      <th>Pregnancies</th>\n",
              "      <th>Glucose</th>\n",
              "      <th>BloodPressure</th>\n",
              "      <th>SkinThickness</th>\n",
              "      <th>Insulin</th>\n",
              "      <th>BMI</th>\n",
              "      <th>DiabetesPedigreeFunction</th>\n",
              "      <th>Age</th>\n",
              "      <th>Outcome</th>\n",
              "    </tr>\n",
              "  </thead>\n",
              "  <tbody>\n",
              "    <tr>\n",
              "      <th>0</th>\n",
              "      <td>6</td>\n",
              "      <td>148</td>\n",
              "      <td>72</td>\n",
              "      <td>35</td>\n",
              "      <td>0</td>\n",
              "      <td>33.6</td>\n",
              "      <td>0.627</td>\n",
              "      <td>50</td>\n",
              "      <td>1</td>\n",
              "    </tr>\n",
              "    <tr>\n",
              "      <th>1</th>\n",
              "      <td>1</td>\n",
              "      <td>85</td>\n",
              "      <td>66</td>\n",
              "      <td>29</td>\n",
              "      <td>0</td>\n",
              "      <td>26.6</td>\n",
              "      <td>0.351</td>\n",
              "      <td>31</td>\n",
              "      <td>0</td>\n",
              "    </tr>\n",
              "    <tr>\n",
              "      <th>2</th>\n",
              "      <td>8</td>\n",
              "      <td>183</td>\n",
              "      <td>64</td>\n",
              "      <td>0</td>\n",
              "      <td>0</td>\n",
              "      <td>23.3</td>\n",
              "      <td>0.672</td>\n",
              "      <td>32</td>\n",
              "      <td>1</td>\n",
              "    </tr>\n",
              "    <tr>\n",
              "      <th>3</th>\n",
              "      <td>1</td>\n",
              "      <td>89</td>\n",
              "      <td>66</td>\n",
              "      <td>23</td>\n",
              "      <td>94</td>\n",
              "      <td>28.1</td>\n",
              "      <td>0.167</td>\n",
              "      <td>21</td>\n",
              "      <td>0</td>\n",
              "    </tr>\n",
              "    <tr>\n",
              "      <th>4</th>\n",
              "      <td>0</td>\n",
              "      <td>137</td>\n",
              "      <td>40</td>\n",
              "      <td>35</td>\n",
              "      <td>168</td>\n",
              "      <td>43.1</td>\n",
              "      <td>2.288</td>\n",
              "      <td>33</td>\n",
              "      <td>1</td>\n",
              "    </tr>\n",
              "    <tr>\n",
              "      <th>...</th>\n",
              "      <td>...</td>\n",
              "      <td>...</td>\n",
              "      <td>...</td>\n",
              "      <td>...</td>\n",
              "      <td>...</td>\n",
              "      <td>...</td>\n",
              "      <td>...</td>\n",
              "      <td>...</td>\n",
              "      <td>...</td>\n",
              "    </tr>\n",
              "    <tr>\n",
              "      <th>763</th>\n",
              "      <td>10</td>\n",
              "      <td>101</td>\n",
              "      <td>76</td>\n",
              "      <td>48</td>\n",
              "      <td>180</td>\n",
              "      <td>32.9</td>\n",
              "      <td>0.171</td>\n",
              "      <td>63</td>\n",
              "      <td>0</td>\n",
              "    </tr>\n",
              "    <tr>\n",
              "      <th>764</th>\n",
              "      <td>2</td>\n",
              "      <td>122</td>\n",
              "      <td>70</td>\n",
              "      <td>27</td>\n",
              "      <td>0</td>\n",
              "      <td>36.8</td>\n",
              "      <td>0.340</td>\n",
              "      <td>27</td>\n",
              "      <td>0</td>\n",
              "    </tr>\n",
              "    <tr>\n",
              "      <th>765</th>\n",
              "      <td>5</td>\n",
              "      <td>121</td>\n",
              "      <td>72</td>\n",
              "      <td>23</td>\n",
              "      <td>112</td>\n",
              "      <td>26.2</td>\n",
              "      <td>0.245</td>\n",
              "      <td>30</td>\n",
              "      <td>0</td>\n",
              "    </tr>\n",
              "    <tr>\n",
              "      <th>766</th>\n",
              "      <td>1</td>\n",
              "      <td>126</td>\n",
              "      <td>60</td>\n",
              "      <td>0</td>\n",
              "      <td>0</td>\n",
              "      <td>30.1</td>\n",
              "      <td>0.349</td>\n",
              "      <td>47</td>\n",
              "      <td>1</td>\n",
              "    </tr>\n",
              "    <tr>\n",
              "      <th>767</th>\n",
              "      <td>1</td>\n",
              "      <td>93</td>\n",
              "      <td>70</td>\n",
              "      <td>31</td>\n",
              "      <td>0</td>\n",
              "      <td>30.4</td>\n",
              "      <td>0.315</td>\n",
              "      <td>23</td>\n",
              "      <td>0</td>\n",
              "    </tr>\n",
              "  </tbody>\n",
              "</table>\n",
              "<p>768 rows × 9 columns</p>\n",
              "</div>"
            ],
            "text/plain": [
              "     Pregnancies  Glucose  BloodPressure  SkinThickness  Insulin   BMI  \\\n",
              "0              6      148             72             35        0  33.6   \n",
              "1              1       85             66             29        0  26.6   \n",
              "2              8      183             64              0        0  23.3   \n",
              "3              1       89             66             23       94  28.1   \n",
              "4              0      137             40             35      168  43.1   \n",
              "..           ...      ...            ...            ...      ...   ...   \n",
              "763           10      101             76             48      180  32.9   \n",
              "764            2      122             70             27        0  36.8   \n",
              "765            5      121             72             23      112  26.2   \n",
              "766            1      126             60              0        0  30.1   \n",
              "767            1       93             70             31        0  30.4   \n",
              "\n",
              "     DiabetesPedigreeFunction  Age  Outcome  \n",
              "0                       0.627   50        1  \n",
              "1                       0.351   31        0  \n",
              "2                       0.672   32        1  \n",
              "3                       0.167   21        0  \n",
              "4                       2.288   33        1  \n",
              "..                        ...  ...      ...  \n",
              "763                     0.171   63        0  \n",
              "764                     0.340   27        0  \n",
              "765                     0.245   30        0  \n",
              "766                     0.349   47        1  \n",
              "767                     0.315   23        0  \n",
              "\n",
              "[768 rows x 9 columns]"
            ]
          },
          "execution_count": 4,
          "metadata": {},
          "output_type": "execute_result"
        }
      ],
      "source": [
        "df = pd.read_csv('./Data/diabetes.csv')\n",
        "df"
      ]
    },
    {
      "cell_type": "code",
      "execution_count": 5,
      "metadata": {
        "colab": {
          "base_uri": "https://localhost:8080/"
        },
        "id": "87L9ifV_Exqz",
        "outputId": "cd83e62d-4db0-452b-d8e8-5f3c1e46ccc3"
      },
      "outputs": [
        {
          "name": "stdout",
          "output_type": "stream",
          "text": [
            "<class 'pandas.core.frame.DataFrame'>\n",
            "RangeIndex: 768 entries, 0 to 767\n",
            "Data columns (total 9 columns):\n",
            " #   Column                    Non-Null Count  Dtype  \n",
            "---  ------                    --------------  -----  \n",
            " 0   Pregnancies               768 non-null    int64  \n",
            " 1   Glucose                   768 non-null    int64  \n",
            " 2   BloodPressure             768 non-null    int64  \n",
            " 3   SkinThickness             768 non-null    int64  \n",
            " 4   Insulin                   768 non-null    int64  \n",
            " 5   BMI                       768 non-null    float64\n",
            " 6   DiabetesPedigreeFunction  768 non-null    float64\n",
            " 7   Age                       768 non-null    int64  \n",
            " 8   Outcome                   768 non-null    int64  \n",
            "dtypes: float64(2), int64(7)\n",
            "memory usage: 54.1 KB\n"
          ]
        }
      ],
      "source": [
        "df.info()"
      ]
    },
    {
      "cell_type": "code",
      "execution_count": 6,
      "metadata": {
        "colab": {
          "base_uri": "https://localhost:8080/",
          "height": 331
        },
        "id": "EpLKdaBOG0YK",
        "outputId": "40472c6b-d2b9-40dc-a29c-3e9d58ac99ab"
      },
      "outputs": [
        {
          "data": {
            "text/html": [
              "<div>\n",
              "<style scoped>\n",
              "    .dataframe tbody tr th:only-of-type {\n",
              "        vertical-align: middle;\n",
              "    }\n",
              "\n",
              "    .dataframe tbody tr th {\n",
              "        vertical-align: top;\n",
              "    }\n",
              "\n",
              "    .dataframe thead th {\n",
              "        text-align: right;\n",
              "    }\n",
              "</style>\n",
              "<table border=\"1\" class=\"dataframe\">\n",
              "  <thead>\n",
              "    <tr style=\"text-align: right;\">\n",
              "      <th></th>\n",
              "      <th>count</th>\n",
              "      <th>mean</th>\n",
              "      <th>std</th>\n",
              "      <th>min</th>\n",
              "      <th>25%</th>\n",
              "      <th>50%</th>\n",
              "      <th>75%</th>\n",
              "      <th>max</th>\n",
              "    </tr>\n",
              "  </thead>\n",
              "  <tbody>\n",
              "    <tr>\n",
              "      <th>Pregnancies</th>\n",
              "      <td>768.0</td>\n",
              "      <td>3.845052</td>\n",
              "      <td>3.369578</td>\n",
              "      <td>0.000</td>\n",
              "      <td>1.00000</td>\n",
              "      <td>3.0000</td>\n",
              "      <td>6.00000</td>\n",
              "      <td>17.00</td>\n",
              "    </tr>\n",
              "    <tr>\n",
              "      <th>Glucose</th>\n",
              "      <td>768.0</td>\n",
              "      <td>120.894531</td>\n",
              "      <td>31.972618</td>\n",
              "      <td>0.000</td>\n",
              "      <td>99.00000</td>\n",
              "      <td>117.0000</td>\n",
              "      <td>140.25000</td>\n",
              "      <td>199.00</td>\n",
              "    </tr>\n",
              "    <tr>\n",
              "      <th>BloodPressure</th>\n",
              "      <td>768.0</td>\n",
              "      <td>69.105469</td>\n",
              "      <td>19.355807</td>\n",
              "      <td>0.000</td>\n",
              "      <td>62.00000</td>\n",
              "      <td>72.0000</td>\n",
              "      <td>80.00000</td>\n",
              "      <td>122.00</td>\n",
              "    </tr>\n",
              "    <tr>\n",
              "      <th>SkinThickness</th>\n",
              "      <td>768.0</td>\n",
              "      <td>20.536458</td>\n",
              "      <td>15.952218</td>\n",
              "      <td>0.000</td>\n",
              "      <td>0.00000</td>\n",
              "      <td>23.0000</td>\n",
              "      <td>32.00000</td>\n",
              "      <td>99.00</td>\n",
              "    </tr>\n",
              "    <tr>\n",
              "      <th>Insulin</th>\n",
              "      <td>768.0</td>\n",
              "      <td>79.799479</td>\n",
              "      <td>115.244002</td>\n",
              "      <td>0.000</td>\n",
              "      <td>0.00000</td>\n",
              "      <td>30.5000</td>\n",
              "      <td>127.25000</td>\n",
              "      <td>846.00</td>\n",
              "    </tr>\n",
              "    <tr>\n",
              "      <th>BMI</th>\n",
              "      <td>768.0</td>\n",
              "      <td>31.992578</td>\n",
              "      <td>7.884160</td>\n",
              "      <td>0.000</td>\n",
              "      <td>27.30000</td>\n",
              "      <td>32.0000</td>\n",
              "      <td>36.60000</td>\n",
              "      <td>67.10</td>\n",
              "    </tr>\n",
              "    <tr>\n",
              "      <th>DiabetesPedigreeFunction</th>\n",
              "      <td>768.0</td>\n",
              "      <td>0.471876</td>\n",
              "      <td>0.331329</td>\n",
              "      <td>0.078</td>\n",
              "      <td>0.24375</td>\n",
              "      <td>0.3725</td>\n",
              "      <td>0.62625</td>\n",
              "      <td>2.42</td>\n",
              "    </tr>\n",
              "    <tr>\n",
              "      <th>Age</th>\n",
              "      <td>768.0</td>\n",
              "      <td>33.240885</td>\n",
              "      <td>11.760232</td>\n",
              "      <td>21.000</td>\n",
              "      <td>24.00000</td>\n",
              "      <td>29.0000</td>\n",
              "      <td>41.00000</td>\n",
              "      <td>81.00</td>\n",
              "    </tr>\n",
              "    <tr>\n",
              "      <th>Outcome</th>\n",
              "      <td>768.0</td>\n",
              "      <td>0.348958</td>\n",
              "      <td>0.476951</td>\n",
              "      <td>0.000</td>\n",
              "      <td>0.00000</td>\n",
              "      <td>0.0000</td>\n",
              "      <td>1.00000</td>\n",
              "      <td>1.00</td>\n",
              "    </tr>\n",
              "  </tbody>\n",
              "</table>\n",
              "</div>"
            ],
            "text/plain": [
              "                          count        mean         std     min       25%  \\\n",
              "Pregnancies               768.0    3.845052    3.369578   0.000   1.00000   \n",
              "Glucose                   768.0  120.894531   31.972618   0.000  99.00000   \n",
              "BloodPressure             768.0   69.105469   19.355807   0.000  62.00000   \n",
              "SkinThickness             768.0   20.536458   15.952218   0.000   0.00000   \n",
              "Insulin                   768.0   79.799479  115.244002   0.000   0.00000   \n",
              "BMI                       768.0   31.992578    7.884160   0.000  27.30000   \n",
              "DiabetesPedigreeFunction  768.0    0.471876    0.331329   0.078   0.24375   \n",
              "Age                       768.0   33.240885   11.760232  21.000  24.00000   \n",
              "Outcome                   768.0    0.348958    0.476951   0.000   0.00000   \n",
              "\n",
              "                               50%        75%     max  \n",
              "Pregnancies                 3.0000    6.00000   17.00  \n",
              "Glucose                   117.0000  140.25000  199.00  \n",
              "BloodPressure              72.0000   80.00000  122.00  \n",
              "SkinThickness              23.0000   32.00000   99.00  \n",
              "Insulin                    30.5000  127.25000  846.00  \n",
              "BMI                        32.0000   36.60000   67.10  \n",
              "DiabetesPedigreeFunction    0.3725    0.62625    2.42  \n",
              "Age                        29.0000   41.00000   81.00  \n",
              "Outcome                     0.0000    1.00000    1.00  "
            ]
          },
          "execution_count": 6,
          "metadata": {},
          "output_type": "execute_result"
        }
      ],
      "source": [
        "df.describe().T"
      ]
    },
    {
      "cell_type": "markdown",
      "metadata": {
        "id": "gdZVGgV6iUvR"
      },
      "source": [
        "Atribut Glucose, BloodPressure, SkinThickness, Insulin, dan BMI terindikasi missing values.\n",
        "\n"
      ]
    },
    {
      "cell_type": "code",
      "execution_count": 7,
      "metadata": {
        "colab": {
          "base_uri": "https://localhost:8080/",
          "height": 449
        },
        "id": "jEALL5u92eC_",
        "outputId": "fd85d02e-8b43-4458-82a5-838b7f688ae5"
      },
      "outputs": [
        {
          "data": {
            "image/png": "[encoded data removed]",
            "text/plain": [
              "<Figure size 640x480 with 1 Axes>"
            ]
          },
          "metadata": {},
          "output_type": "display_data"
        }
      ],
      "source": [
        "sns.countplot(x = df['Outcome'])\n",
        "plt.show()"
      ]
    },
    {
      "cell_type": "code",
      "execution_count": 8,
      "metadata": {
        "colab": {
          "base_uri": "https://localhost:8080/",
          "height": 582
        },
        "id": "cmkUF037u2I1",
        "outputId": "e05ac333-66d6-4756-f795-edeeeabf471a"
      },
      "outputs": [
        {
          "data": {
            "image/png": "[encoded data removed]",
            "text/plain": [
              "<Figure size 1500x700 with 8 Axes>"
            ]
          },
          "metadata": {},
          "output_type": "display_data"
        }
      ],
      "source": [
        "fig, axes = plt.subplots(2, 4, figsize=(15,7))\n",
        "\n",
        "sns.boxplot(data=df, x='Pregnancies', ax=axes[0,0])\n",
        "sns.boxplot(data=df, x='Glucose', ax=axes[0,1])\n",
        "sns.boxplot(data=df, x='BloodPressure', ax=axes[0,2])\n",
        "sns.boxplot(data=df, x='SkinThickness', ax=axes[0,3])\n",
        "sns.boxplot(data=df, x='Insulin', ax=axes[1,0])\n",
        "sns.boxplot(data=df, x='BMI', ax=axes[1,1])\n",
        "sns.boxplot(data=df, x='DiabetesPedigreeFunction', ax=axes[1,2])\n",
        "sns.boxplot(data=df, x='Age', ax=axes[1,3])\n",
        "\n",
        "plt.show()"
      ]
    },
    {
      "cell_type": "code",
      "execution_count": 9,
      "metadata": {
        "colab": {
          "base_uri": "https://localhost:8080/",
          "height": 1000
        },
        "id": "r0HL_tprG3Pm",
        "outputId": "ca28eff2-f19a-48e9-9c5f-486179732b8c"
      },
      "outputs": [
        {
          "data": {
            "image/png": "[encoded data removed]",
            "text/plain": [
              "<Figure size 2000x2000 with 9 Axes>"
            ]
          },
          "metadata": {},
          "output_type": "display_data"
        }
      ],
      "source": [
        "df.hist(figsize = (20,20))\n",
        "plt.show()"
      ]
    },
    {
      "cell_type": "code",
      "execution_count": 51,
      "metadata": {
        "id": "kSLQ7WElJyov"
      },
      "outputs": [],
      "source": [
        "# Mengubah nilai 0 menjadi NaN\n",
        "df.loc[df[\"Glucose\"] == 0.0, \"Glucose\"] = np.NAN\n",
        "df.loc[df[\"BloodPressure\"] == 0.0, \"BloodPressure\"] = np.NAN\n",
        "df.loc[df[\"SkinThickness\"] == 0.0, \"SkinThickness\"] = np.NAN\n",
        "df.loc[df[\"Insulin\"] == 0.0, \"Insulin\"] = np.NAN\n",
        "df.loc[df[\"BMI\"] == 0.0, \"BMI\"] = np.NAN"
      ]
    },
    {
      "cell_type": "code",
      "execution_count": 52,
      "metadata": {
        "colab": {
          "base_uri": "https://localhost:8080/"
        },
        "id": "vSiIgOi7GUOH",
        "outputId": "f050570f-12b4-4c48-c7f3-db69f0cf6554"
      },
      "outputs": [
        {
          "data": {
            "text/plain": [
              "Pregnancies                   0\n",
              "Glucose                       5\n",
              "BloodPressure                35\n",
              "SkinThickness               227\n",
              "Insulin                     374\n",
              "BMI                          11\n",
              "DiabetesPedigreeFunction      0\n",
              "Age                           0\n",
              "Outcome                       0\n",
              "dtype: int64"
            ]
          },
          "execution_count": 52,
          "metadata": {},
          "output_type": "execute_result"
        }
      ],
      "source": [
        "df.isnull().sum()"
      ]
    },
    {
      "cell_type": "markdown",
      "metadata": {
        "id": "pCbX2tgDXKUq"
      },
      "source": [
        "# Handling Missing Values"
      ]
    },
    {
      "cell_type": "code",
      "execution_count": 53,
      "metadata": {
        "id": "gJY0UVWvPdHG"
      },
      "outputs": [],
      "source": [
        "def check_median(cols):\n",
        "  result = pd.DataFrame(columns=['Outcome'])\n",
        "  for col in cols:\n",
        "    median_val = df[df[col].notnull()][[col, 'Outcome']].groupby(['Outcome']).median()\n",
        "    result = pd.merge(result, median_val, how='right', on=['Outcome'])\n",
        "  return result"
      ]
    },
    {
      "cell_type": "code",
      "execution_count": 54,
      "metadata": {
        "colab": {
          "base_uri": "https://localhost:8080/",
          "height": 112
        },
        "id": "Ifpa-3bD8aOX",
        "outputId": "73863aa4-30f4-4c48-ba0a-6eb5ad5c9a8a"
      },
      "outputs": [
        {
          "data": {
            "text/html": [
              "\n",
              "  <div id=\"df-6a9af00a-1b63-4530-b02f-881990c54e31\">\n",
              "    <div class=\"colab-df-container\">\n",
              "      <div>\n",
              "<style scoped>\n",
              "    .dataframe tbody tr th:only-of-type {\n",
              "        vertical-align: middle;\n",
              "    }\n",
              "\n",
              "    .dataframe tbody tr th {\n",
              "        vertical-align: top;\n",
              "    }\n",
              "\n",
              "    .dataframe thead th {\n",
              "        text-align: right;\n",
              "    }\n",
              "</style>\n",
              "<table border=\"1\" class=\"dataframe\">\n",
              "  <thead>\n",
              "    <tr style=\"text-align: right;\">\n",
              "      <th></th>\n",
              "      <th>Outcome</th>\n",
              "      <th>Glucose</th>\n",
              "      <th>BloodPressure</th>\n",
              "      <th>SkinThickness</th>\n",
              "      <th>Insulin</th>\n",
              "      <th>BMI</th>\n",
              "    </tr>\n",
              "  </thead>\n",
              "  <tbody>\n",
              "    <tr>\n",
              "      <th>0</th>\n",
              "      <td>0</td>\n",
              "      <td>107.0</td>\n",
              "      <td>70.0</td>\n",
              "      <td>27.0</td>\n",
              "      <td>102.5</td>\n",
              "      <td>30.1</td>\n",
              "    </tr>\n",
              "    <tr>\n",
              "      <th>1</th>\n",
              "      <td>1</td>\n",
              "      <td>140.0</td>\n",
              "      <td>74.5</td>\n",
              "      <td>32.0</td>\n",
              "      <td>169.5</td>\n",
              "      <td>34.3</td>\n",
              "    </tr>\n",
              "  </tbody>\n",
              "</table>\n",
              "</div>\n",
              "      <button class=\"colab-df-convert\" onclick=\"convertToInteractive('df-6a9af00a-1b63-4530-b02f-881990c54e31')\"\n",
              "              title=\"Convert this dataframe to an interactive table.\"\n",
              "              style=\"display:none;\">\n",
              "        \n",
              "  <svg xmlns=\"http://www.w3.org/2000/svg\" height=\"24px\"viewBox=\"0 0 24 24\"\n",
              "       width=\"24px\">\n",
              "    <path d=\"M0 0h24v24H0V0z\" fill=\"none\"/>\n",
              "    <path d=\"M18.56 5.44l.94 2.06.94-2.06 2.06-.94-2.06-.94-.94-2.06-.94 2.06-2.06.94zm-11 1L8.5 8.5l.94-2.06 2.06-.94-2.06-.94L8.5 2.5l-.94 2.06-2.06.94zm10 10l.94 2.06.94-2.06 2.06-.94-2.06-.94-.94-2.06-.94 2.06-2.06.94z\"/><path d=\"M17.41 7.96l-1.37-1.37c-.4-.4-.92-.59-1.43-.59-.52 0-1.04.2-1.43.59L10.3 9.45l-7.72 7.72c-.78.78-.78 2.05 0 2.83L4 21.41c.39.39.9.59 1.41.59.51 0 1.02-.2 1.41-.59l7.78-7.78 2.81-2.81c.8-.78.8-2.07 0-2.86zM5.41 20L4 18.59l7.72-7.72 1.47 1.35L5.41 20z\"/>\n",
              "  </svg>\n",
              "      </button>\n",
              "      \n",
              "  <style>\n",
              "    .colab-df-container {\n",
              "      display:flex;\n",
              "      flex-wrap:wrap;\n",
              "      gap: 12px;\n",
              "    }\n",
              "\n",
              "    .colab-df-convert {\n",
              "      background-color: #E8F0FE;\n",
              "      border: none;\n",
              "      border-radius: 50%;\n",
              "      cursor: pointer;\n",
              "      display: none;\n",
              "      fill: #1967D2;\n",
              "      height: 32px;\n",
              "      padding: 0 0 0 0;\n",
              "      width: 32px;\n",
              "    }\n",
              "\n",
              "    .colab-df-convert:hover {\n",
              "      background-color: #E2EBFA;\n",
              "      box-shadow: 0px 1px 2px rgba(60, 64, 67, 0.3), 0px 1px 3px 1px rgba(60, 64, 67, 0.15);\n",
              "      fill: #174EA6;\n",
              "    }\n",
              "\n",
              "    [theme=dark] .colab-df-convert {\n",
              "      background-color: #3B4455;\n",
              "      fill: #D2E3FC;\n",
              "    }\n",
              "\n",
              "    [theme=dark] .colab-df-convert:hover {\n",
              "      background-color: #434B5C;\n",
              "      box-shadow: 0px 1px 3px 1px rgba(0, 0, 0, 0.15);\n",
              "      filter: drop-shadow(0px 1px 2px rgba(0, 0, 0, 0.3));\n",
              "      fill: #FFFFFF;\n",
              "    }\n",
              "  </style>\n",
              "\n",
              "      <script>\n",
              "        const buttonEl =\n",
              "          document.querySelector('#df-6a9af00a-1b63-4530-b02f-881990c54e31 button.colab-df-convert');\n",
              "        buttonEl.style.display =\n",
              "          google.colab.kernel.accessAllowed ? 'block' : 'none';\n",
              "\n",
              "        async function convertToInteractive(key) {\n",
              "          const element = document.querySelector('#df-6a9af00a-1b63-4530-b02f-881990c54e31');\n",
              "          const dataTable =\n",
              "            await google.colab.kernel.invokeFunction('convertToInteractive',\n",
              "                                                     [key], {});\n",
              "          if (!dataTable) return;\n",
              "\n",
              "          const docLinkHtml = 'Like what you see? Visit the ' +\n",
              "            '<a target=\"_blank\" href=https://colab.research.google.com/notebooks/data_table.ipynb>data table notebook</a>'\n",
              "            + ' to learn more about interactive tables.';\n",
              "          element.innerHTML = '';\n",
              "          dataTable['output_type'] = 'display_data';\n",
              "          await google.colab.output.renderOutput(dataTable, element);\n",
              "          const docLink = document.createElement('div');\n",
              "          docLink.innerHTML = docLinkHtml;\n",
              "          element.appendChild(docLink);\n",
              "        }\n",
              "      </script>\n",
              "    </div>\n",
              "  </div>\n",
              "  "
            ],
            "text/plain": [
              "   Outcome  Glucose  BloodPressure  SkinThickness  Insulin   BMI\n",
              "0        0    107.0           70.0           27.0    102.5  30.1\n",
              "1        1    140.0           74.5           32.0    169.5  34.3"
            ]
          },
          "execution_count": 54,
          "metadata": {},
          "output_type": "execute_result"
        }
      ],
      "source": [
        "check_median(['Glucose','BloodPressure','SkinThickness','Insulin', 'BMI'])"
      ]
    },
    {
      "cell_type": "code",
      "execution_count": 55,
      "metadata": {
        "id": "ly1NGE7fRcTC"
      },
      "outputs": [],
      "source": [
        "df.loc[(df['Outcome'] == 0 ) & (df['Glucose'].isnull()), 'Glucose'] = 107\n",
        "df.loc[(df['Outcome'] == 1 ) & (df['Glucose'].isnull()), 'Glucose'] = 140\n",
        "\n",
        "df.loc[(df['Outcome'] == 0 ) & (df['BloodPressure'].isnull()), 'BloodPressure'] = 70\n",
        "df.loc[(df['Outcome'] == 1 ) & (df['BloodPressure'].isnull()), 'BloodPressure'] = 74.5\n",
        "\n",
        "df.loc[(df['Outcome'] == 0 ) & (df['SkinThickness'].isnull()), 'SkinThickness'] = 27\n",
        "df.loc[(df['Outcome'] == 1 ) & (df['SkinThickness'].isnull()), 'SkinThickness'] = 32\n",
        "\n",
        "df.loc[(df['Outcome'] == 0 ) & (df['Insulin'].isnull()), 'Insulin'] = 102.5\n",
        "df.loc[(df['Outcome'] == 1 ) & (df['Insulin'].isnull()), 'Insulin'] = 169.5\n",
        "\n",
        "df.loc[(df['Outcome'] == 0 ) & (df['BMI'].isnull()), 'BMI'] = 30.1\n",
        "df.loc[(df['Outcome'] == 1 ) & (df['BMI'].isnull()), 'BMI'] = 34.3"
      ]
    },
    {
      "cell_type": "markdown",
      "metadata": {
        "id": "hTJZPn15WG26"
      },
      "source": [
        "# Split Dataset"
      ]
    },
    {
      "cell_type": "code",
      "execution_count": 10,
      "metadata": {
        "id": "Gbjjly2Y0d5h"
      },
      "outputs": [],
      "source": [
        "features = df.iloc[:, :-1]\n",
        "labels = df['Outcome']"
      ]
    },
    {
      "cell_type": "code",
      "execution_count": 11,
      "metadata": {
        "id": "kj4zQeHh0d-F"
      },
      "outputs": [],
      "source": [
        "xtrain, xtest, ytrain, ytest = train_test_split(features, labels, test_size=0.2, random_state=42, stratify=labels)"
      ]
    },
    {
      "cell_type": "code",
      "execution_count": 12,
      "metadata": {
        "id": "n0i4ba4T0d7t"
      },
      "outputs": [],
      "source": [
        "scaler = StandardScaler()\n",
        "xtrain = scaler.fit_transform(xtrain)\n",
        "xtest = scaler.transform(xtest)"
      ]
    },
    {
      "cell_type": "code",
      "execution_count": 13,
      "metadata": {
        "colab": {
          "base_uri": "https://localhost:8080/"
        },
        "id": "5Nii1W8GX4wf",
        "outputId": "78a19718-7fb7-4c86-b6ff-b6cf1988297a"
      },
      "outputs": [
        {
          "name": "stdout",
          "output_type": "stream",
          "text": [
            "(614, 8) (614,)\n",
            "(154, 8) (154,)\n"
          ]
        }
      ],
      "source": [
        "print(xtrain.shape, ytrain.shape)\n",
        "print(xtest.shape, ytest.shape)"
      ]
    },
    {
      "cell_type": "markdown",
      "metadata": {
        "id": "hl7IaZROWSUn"
      },
      "source": [
        "# Build Model"
      ]
    },
    {
      "cell_type": "code",
      "execution_count": 14,
      "metadata": {
        "id": "6hXP2KyA0eDQ"
      },
      "outputs": [],
      "source": [
        "# define the keras sequential model\n",
        "model = Sequential()"
      ]
    },
    {
      "cell_type": "code",
      "execution_count": 15,
      "metadata": {
        "id": "jbo8eeEK0eFn"
      },
      "outputs": [],
      "source": [
        "model.add(Dense(8, input_dim=8, activation='relu')) # input layer + 1st hidden layer\n",
        "model.add(Dense(8, activation='relu')) # 2nd hidden layer \n",
        "model.add(Dense(8, activation='relu')) # 2nd hidden layer \n",
        "model.add(Dense(1, activation='sigmoid')) # output layer"
      ]
    },
    {
      "cell_type": "code",
      "execution_count": 16,
      "metadata": {
        "colab": {
          "base_uri": "https://localhost:8080/"
        },
        "id": "C_OUJK0z0eKt",
        "outputId": "c9b288cc-8ed5-44e4-c55d-0e664a64735f"
      },
      "outputs": [
        {
          "name": "stdout",
          "output_type": "stream",
          "text": [
            "Model: \"sequential\"\n",
            "_________________________________________________________________\n",
            " Layer (type)                Output Shape              Param #   \n",
            "=================================================================\n",
            " dense (Dense)               (None, 8)                 72        \n",
            "                                                                 \n",
            " dense_1 (Dense)             (None, 8)                 72        \n",
            "                                                                 \n",
            " dense_2 (Dense)             (None, 8)                 72        \n",
            "                                                                 \n",
            " dense_3 (Dense)             (None, 1)                 9         \n",
            "                                                                 \n",
            "=================================================================\n",
            "Total params: 225\n",
            "Trainable params: 225\n",
            "Non-trainable params: 0\n",
            "_________________________________________________________________\n"
          ]
        }
      ],
      "source": [
        "model.summary()"
      ]
    },
    {
      "cell_type": "code",
      "execution_count": 17,
      "metadata": {
        "id": "a7teLaCg0eMr"
      },
      "outputs": [],
      "source": [
        "model.compile(loss='binary_crossentropy', optimizer='adam', metrics=['accuracy'])"
      ]
    },
    {
      "cell_type": "markdown",
      "metadata": {
        "id": "o_scZs7QWYx2"
      },
      "source": [
        "# Train Model"
      ]
    },
    {
      "cell_type": "code",
      "execution_count": 19,
      "metadata": {
        "colab": {
          "base_uri": "https://localhost:8080/"
        },
        "id": "GUuF868B0ePC",
        "outputId": "54af0f61-174f-408d-95dd-dcbb4c38b876"
      },
      "outputs": [
        {
          "name": "stdout",
          "output_type": "stream",
          "text": [
            "Epoch 1/100\n",
            "77/77 [==============================] - 0s 2ms/step - loss: 0.3526 - accuracy: 0.8436\n",
            "Epoch 2/100\n",
            "77/77 [==============================] - 0s 2ms/step - loss: 0.3493 - accuracy: 0.8518\n",
            "Epoch 3/100\n",
            "77/77 [==============================] - 0s 2ms/step - loss: 0.3501 - accuracy: 0.8453\n",
            "Epoch 4/100\n",
            "77/77 [==============================] - 0s 2ms/step - loss: 0.3495 - accuracy: 0.8502\n",
            "Epoch 5/100\n",
            "77/77 [==============================] - 0s 2ms/step - loss: 0.3488 - accuracy: 0.8436\n",
            "Epoch 6/100\n",
            "77/77 [==============================] - 0s 2ms/step - loss: 0.3486 - accuracy: 0.8518\n",
            "Epoch 7/100\n",
            "77/77 [==============================] - 0s 2ms/step - loss: 0.3464 - accuracy: 0.8534\n",
            "Epoch 8/100\n",
            "77/77 [==============================] - 0s 2ms/step - loss: 0.3473 - accuracy: 0.8502\n",
            "Epoch 9/100\n",
            "77/77 [==============================] - 0s 3ms/step - loss: 0.3456 - accuracy: 0.8550\n",
            "Epoch 10/100\n",
            "77/77 [==============================] - 0s 2ms/step - loss: 0.3473 - accuracy: 0.8485\n",
            "Epoch 11/100\n",
            "77/77 [==============================] - 0s 2ms/step - loss: 0.3457 - accuracy: 0.8502\n",
            "Epoch 12/100\n",
            "77/77 [==============================] - 0s 2ms/step - loss: 0.3453 - accuracy: 0.8485\n",
            "Epoch 13/100\n",
            "77/77 [==============================] - 0s 2ms/step - loss: 0.3445 - accuracy: 0.8518\n",
            "Epoch 14/100\n",
            "77/77 [==============================] - 0s 2ms/step - loss: 0.3413 - accuracy: 0.8550\n",
            "Epoch 15/100\n",
            "77/77 [==============================] - 0s 2ms/step - loss: 0.3431 - accuracy: 0.8502\n",
            "Epoch 16/100\n",
            "77/77 [==============================] - 0s 2ms/step - loss: 0.3427 - accuracy: 0.8550\n",
            "Epoch 17/100\n",
            "77/77 [==============================] - 0s 3ms/step - loss: 0.3419 - accuracy: 0.8550\n",
            "Epoch 18/100\n",
            "77/77 [==============================] - 0s 2ms/step - loss: 0.3413 - accuracy: 0.8567\n",
            "Epoch 19/100\n",
            "77/77 [==============================] - 0s 2ms/step - loss: 0.3391 - accuracy: 0.8534\n",
            "Epoch 20/100\n",
            "77/77 [==============================] - 0s 2ms/step - loss: 0.3378 - accuracy: 0.8534\n",
            "Epoch 21/100\n",
            "77/77 [==============================] - 0s 2ms/step - loss: 0.3374 - accuracy: 0.8616\n",
            "Epoch 22/100\n",
            "77/77 [==============================] - 0s 2ms/step - loss: 0.3361 - accuracy: 0.8632\n",
            "Epoch 23/100\n",
            "77/77 [==============================] - 0s 2ms/step - loss: 0.3366 - accuracy: 0.8518\n",
            "Epoch 24/100\n",
            "77/77 [==============================] - 0s 3ms/step - loss: 0.3367 - accuracy: 0.8616\n",
            "Epoch 25/100\n",
            "77/77 [==============================] - 0s 2ms/step - loss: 0.3344 - accuracy: 0.8567\n",
            "Epoch 26/100\n",
            "77/77 [==============================] - 0s 2ms/step - loss: 0.3362 - accuracy: 0.8632\n",
            "Epoch 27/100\n",
            "77/77 [==============================] - 0s 2ms/step - loss: 0.3341 - accuracy: 0.8534\n",
            "Epoch 28/100\n",
            "77/77 [==============================] - 0s 2ms/step - loss: 0.3328 - accuracy: 0.8567\n",
            "Epoch 29/100\n",
            "77/77 [==============================] - 0s 2ms/step - loss: 0.3323 - accuracy: 0.8583\n",
            "Epoch 30/100\n",
            "77/77 [==============================] - 0s 2ms/step - loss: 0.3315 - accuracy: 0.8648\n",
            "Epoch 31/100\n",
            "77/77 [==============================] - 0s 2ms/step - loss: 0.3325 - accuracy: 0.8599\n",
            "Epoch 32/100\n",
            "77/77 [==============================] - 0s 2ms/step - loss: 0.3299 - accuracy: 0.8648\n",
            "Epoch 33/100\n",
            "77/77 [==============================] - 0s 2ms/step - loss: 0.3302 - accuracy: 0.8567\n",
            "Epoch 34/100\n",
            "77/77 [==============================] - 0s 2ms/step - loss: 0.3278 - accuracy: 0.8632\n",
            "Epoch 35/100\n",
            "77/77 [==============================] - 0s 2ms/step - loss: 0.3276 - accuracy: 0.8648\n",
            "Epoch 36/100\n",
            "77/77 [==============================] - 0s 2ms/step - loss: 0.3278 - accuracy: 0.8648\n",
            "Epoch 37/100\n",
            "77/77 [==============================] - 0s 2ms/step - loss: 0.3253 - accuracy: 0.8664\n",
            "Epoch 38/100\n",
            "77/77 [==============================] - 0s 3ms/step - loss: 0.3284 - accuracy: 0.8632\n",
            "Epoch 39/100\n",
            "77/77 [==============================] - 0s 2ms/step - loss: 0.3248 - accuracy: 0.8664\n",
            "Epoch 40/100\n",
            "77/77 [==============================] - 0s 2ms/step - loss: 0.3271 - accuracy: 0.8616\n",
            "Epoch 41/100\n",
            "77/77 [==============================] - 0s 2ms/step - loss: 0.3250 - accuracy: 0.8599\n",
            "Epoch 42/100\n",
            "77/77 [==============================] - 0s 2ms/step - loss: 0.3243 - accuracy: 0.8697\n",
            "Epoch 43/100\n",
            "77/77 [==============================] - 0s 2ms/step - loss: 0.3244 - accuracy: 0.8632\n",
            "Epoch 44/100\n",
            "77/77 [==============================] - 0s 2ms/step - loss: 0.3241 - accuracy: 0.8681\n",
            "Epoch 45/100\n",
            "77/77 [==============================] - 0s 2ms/step - loss: 0.3230 - accuracy: 0.8664\n",
            "Epoch 46/100\n",
            "77/77 [==============================] - 0s 2ms/step - loss: 0.3224 - accuracy: 0.8681\n",
            "Epoch 47/100\n",
            "77/77 [==============================] - 0s 2ms/step - loss: 0.3206 - accuracy: 0.8681\n",
            "Epoch 48/100\n",
            "77/77 [==============================] - 0s 2ms/step - loss: 0.3213 - accuracy: 0.8616\n",
            "Epoch 49/100\n",
            "77/77 [==============================] - 0s 2ms/step - loss: 0.3207 - accuracy: 0.8616\n",
            "Epoch 50/100\n",
            "77/77 [==============================] - 0s 2ms/step - loss: 0.3214 - accuracy: 0.8664\n",
            "Epoch 51/100\n",
            "77/77 [==============================] - 0s 2ms/step - loss: 0.3199 - accuracy: 0.8648\n",
            "Epoch 52/100\n",
            "77/77 [==============================] - 0s 2ms/step - loss: 0.3186 - accuracy: 0.8681\n",
            "Epoch 53/100\n",
            "77/77 [==============================] - 0s 2ms/step - loss: 0.3173 - accuracy: 0.8664\n",
            "Epoch 54/100\n",
            "77/77 [==============================] - 0s 2ms/step - loss: 0.3193 - accuracy: 0.8664\n",
            "Epoch 55/100\n",
            "77/77 [==============================] - 0s 2ms/step - loss: 0.3170 - accuracy: 0.8664\n",
            "Epoch 56/100\n",
            "77/77 [==============================] - 0s 2ms/step - loss: 0.3175 - accuracy: 0.8697\n",
            "Epoch 57/100\n",
            "77/77 [==============================] - 0s 2ms/step - loss: 0.3177 - accuracy: 0.8681\n",
            "Epoch 58/100\n",
            "77/77 [==============================] - 0s 2ms/step - loss: 0.3173 - accuracy: 0.8713\n",
            "Epoch 59/100\n",
            "77/77 [==============================] - 0s 2ms/step - loss: 0.3142 - accuracy: 0.8713\n",
            "Epoch 60/100\n",
            "77/77 [==============================] - 0s 2ms/step - loss: 0.3134 - accuracy: 0.8746\n",
            "Epoch 61/100\n",
            "77/77 [==============================] - 0s 2ms/step - loss: 0.3149 - accuracy: 0.8697\n",
            "Epoch 62/100\n",
            "77/77 [==============================] - 0s 2ms/step - loss: 0.3109 - accuracy: 0.8746\n",
            "Epoch 63/100\n",
            "77/77 [==============================] - 0s 2ms/step - loss: 0.3119 - accuracy: 0.8713\n",
            "Epoch 64/100\n",
            "77/77 [==============================] - 0s 3ms/step - loss: 0.3131 - accuracy: 0.8697\n",
            "Epoch 65/100\n",
            "77/77 [==============================] - 0s 2ms/step - loss: 0.3091 - accuracy: 0.8779\n",
            "Epoch 66/100\n",
            "77/77 [==============================] - 0s 2ms/step - loss: 0.3115 - accuracy: 0.8713\n",
            "Epoch 67/100\n",
            "77/77 [==============================] - 0s 2ms/step - loss: 0.3132 - accuracy: 0.8697\n",
            "Epoch 68/100\n",
            "77/77 [==============================] - 0s 3ms/step - loss: 0.3115 - accuracy: 0.8697\n",
            "Epoch 69/100\n",
            "77/77 [==============================] - 0s 3ms/step - loss: 0.3077 - accuracy: 0.8713\n",
            "Epoch 70/100\n",
            "77/77 [==============================] - 0s 2ms/step - loss: 0.3072 - accuracy: 0.8681\n",
            "Epoch 71/100\n",
            "77/77 [==============================] - 0s 2ms/step - loss: 0.3067 - accuracy: 0.8762\n",
            "Epoch 72/100\n",
            "77/77 [==============================] - 0s 2ms/step - loss: 0.3054 - accuracy: 0.8697\n",
            "Epoch 73/100\n",
            "77/77 [==============================] - 0s 2ms/step - loss: 0.3076 - accuracy: 0.8730\n",
            "Epoch 74/100\n",
            "77/77 [==============================] - 0s 3ms/step - loss: 0.3033 - accuracy: 0.8811\n",
            "Epoch 75/100\n",
            "77/77 [==============================] - 0s 4ms/step - loss: 0.3039 - accuracy: 0.8697\n",
            "Epoch 76/100\n",
            "77/77 [==============================] - 0s 2ms/step - loss: 0.3031 - accuracy: 0.8730\n",
            "Epoch 77/100\n",
            "77/77 [==============================] - 0s 2ms/step - loss: 0.3034 - accuracy: 0.8730\n",
            "Epoch 78/100\n",
            "77/77 [==============================] - 0s 2ms/step - loss: 0.3014 - accuracy: 0.8681\n",
            "Epoch 79/100\n",
            "77/77 [==============================] - 0s 3ms/step - loss: 0.3004 - accuracy: 0.8681\n",
            "Epoch 80/100\n",
            "77/77 [==============================] - 0s 3ms/step - loss: 0.2980 - accuracy: 0.8746\n",
            "Epoch 81/100\n",
            "77/77 [==============================] - 0s 2ms/step - loss: 0.2992 - accuracy: 0.8713\n",
            "Epoch 82/100\n",
            "77/77 [==============================] - 0s 3ms/step - loss: 0.2980 - accuracy: 0.8697\n",
            "Epoch 83/100\n",
            "77/77 [==============================] - 0s 2ms/step - loss: 0.2972 - accuracy: 0.8811\n",
            "Epoch 84/100\n",
            "77/77 [==============================] - 0s 3ms/step - loss: 0.2969 - accuracy: 0.8730\n",
            "Epoch 85/100\n",
            "77/77 [==============================] - 0s 3ms/step - loss: 0.2969 - accuracy: 0.8746\n",
            "Epoch 86/100\n",
            "77/77 [==============================] - 0s 2ms/step - loss: 0.2959 - accuracy: 0.8762\n",
            "Epoch 87/100\n",
            "77/77 [==============================] - 0s 2ms/step - loss: 0.2975 - accuracy: 0.8697\n",
            "Epoch 88/100\n",
            "77/77 [==============================] - 0s 3ms/step - loss: 0.2972 - accuracy: 0.8779\n",
            "Epoch 89/100\n",
            "77/77 [==============================] - 0s 2ms/step - loss: 0.2946 - accuracy: 0.8697\n",
            "Epoch 90/100\n",
            "77/77 [==============================] - 0s 2ms/step - loss: 0.2925 - accuracy: 0.8811\n",
            "Epoch 91/100\n",
            "77/77 [==============================] - 0s 3ms/step - loss: 0.2921 - accuracy: 0.8795\n",
            "Epoch 92/100\n",
            "77/77 [==============================] - 0s 2ms/step - loss: 0.2927 - accuracy: 0.8795\n",
            "Epoch 93/100\n",
            "77/77 [==============================] - 0s 2ms/step - loss: 0.2902 - accuracy: 0.8795\n",
            "Epoch 94/100\n",
            "77/77 [==============================] - 0s 2ms/step - loss: 0.2896 - accuracy: 0.8779\n",
            "Epoch 95/100\n",
            "77/77 [==============================] - 0s 2ms/step - loss: 0.2903 - accuracy: 0.8664\n",
            "Epoch 96/100\n",
            "77/77 [==============================] - 0s 2ms/step - loss: 0.2912 - accuracy: 0.8779\n",
            "Epoch 97/100\n",
            "77/77 [==============================] - 0s 2ms/step - loss: 0.2882 - accuracy: 0.8844\n",
            "Epoch 98/100\n",
            "77/77 [==============================] - 0s 2ms/step - loss: 0.2879 - accuracy: 0.8779\n",
            "Epoch 99/100\n",
            "77/77 [==============================] - 0s 2ms/step - loss: 0.2885 - accuracy: 0.8746\n",
            "Epoch 100/100\n",
            "77/77 [==============================] - 0s 2ms/step - loss: 0.2861 - accuracy: 0.8779\n"
          ]
        },
        {
          "data": {
            "text/plain": [
              "<keras.callbacks.History at 0x233e427df70>"
            ]
          },
          "execution_count": 19,
          "metadata": {},
          "output_type": "execute_result"
        }
      ],
      "source": [
        "# fit the keras model on the dataset\n",
        "model.fit(xtrain, ytrain, epochs=100, batch_size=8)"
      ]
    },
    {
      "cell_type": "markdown",
      "metadata": {
        "id": "nH8Pf8yjWdJV"
      },
      "source": [
        "# Plot Accuracy & Evaluate Model"
      ]
    },
    {
      "cell_type": "code",
      "execution_count": 20,
      "metadata": {
        "colab": {
          "base_uri": "https://localhost:8080/",
          "height": 480
        },
        "id": "CfwXM6fnGgOl",
        "outputId": "aaf8e495-a14e-41c6-d4e1-4470bf3200ed"
      },
      "outputs": [
        {
          "data": {
            "image/png": "[encoded data removed]",
            "text/plain": [
              "<Figure size 640x480 with 1 Axes>"
            ]
          },
          "metadata": {},
          "output_type": "display_data"
        }
      ],
      "source": [
        "# plt.figure(figsize=[8,5])\n",
        "plt.plot(model.history.history['accuracy'], 'r')\n",
        "plt.legend(['Training loss'])\n",
        "plt.xlabel('Epochs', fontsize=16)\n",
        "plt.ylabel('Accuracy', fontsize=16)\n",
        "plt.title('Accuracy Curves', fontsize=16)\n",
        "\n",
        "plt.show()"
      ]
    },
    {
      "cell_type": "code",
      "execution_count": 21,
      "metadata": {
        "colab": {
          "base_uri": "https://localhost:8080/"
        },
        "id": "XZka_zWo0eSo",
        "outputId": "39d9dfd7-969c-4473-9f35-86fe318b28a3"
      },
      "outputs": [
        {
          "name": "stdout",
          "output_type": "stream",
          "text": [
            "Accuracy: 74.03\n"
          ]
        }
      ],
      "source": [
        "# evaluate the keras model\n",
        "_, accuracy = model.evaluate(xtest, ytest, verbose=False)\n",
        "print(f'Accuracy: {accuracy*100:.2f}')"
      ]
    },
    {
      "cell_type": "code",
      "execution_count": 22,
      "metadata": {
        "colab": {
          "base_uri": "https://localhost:8080/"
        },
        "id": "xkYu0t3eYvhY",
        "outputId": "9223d0b3-1c67-465b-d226-5294335d2961"
      },
      "outputs": [
        {
          "name": "stdout",
          "output_type": "stream",
          "text": [
            "5/5 [==============================] - 0s 2ms/step\n"
          ]
        }
      ],
      "source": [
        "ypred = model.predict(xtest)"
      ]
    },
    {
      "cell_type": "code",
      "execution_count": 23,
      "metadata": {
        "id": "QP_HSflAerKb"
      },
      "outputs": [],
      "source": [
        "classes = np.round(ypred).reshape(-1)"
      ]
    },
    {
      "cell_type": "code",
      "execution_count": 24,
      "metadata": {
        "colab": {
          "base_uri": "https://localhost:8080/"
        },
        "id": "Qag5glaQf0qJ",
        "outputId": "705a3b5c-a657-4d3f-8cdf-0ba18e4db18b"
      },
      "outputs": [
        {
          "name": "stdout",
          "output_type": "stream",
          "text": [
            "              precision    recall  f1-score   support\n",
            "\n",
            "           0       0.79      0.81      0.80       100\n",
            "           1       0.63      0.61      0.62        54\n",
            "\n",
            "    accuracy                           0.74       154\n",
            "   macro avg       0.71      0.71      0.71       154\n",
            "weighted avg       0.74      0.74      0.74       154\n",
            "\n"
          ]
        }
      ],
      "source": [
        "print(classification_report(ytest, classes))"
      ]
    },
    {
      "cell_type": "code",
      "execution_count": 25,
      "metadata": {
        "colab": {
          "base_uri": "https://localhost:8080/",
          "height": 449
        },
        "id": "FsVgU7tfg1Rm",
        "outputId": "c748b1b9-5419-4b40-d5cf-a4eb43326c5f"
      },
      "outputs": [
        {
          "data": {
            "image/png": "[encoded data removed]",
            "text/plain": [
              "<Figure size 640x480 with 1 Axes>"
            ]
          },
          "metadata": {},
          "output_type": "display_data"
        }
      ],
      "source": [
        "sns.heatmap(confusion_matrix(ytest, classes), annot=True, cmap='Blues', cbar=False)\n",
        "plt.xlabel(\"Predicted\")\n",
        "plt.ylabel(\"Actual\")\n",
        "plt.show()"
      ]
    },
    {
      "cell_type": "code",
      "execution_count": 26,
      "metadata": {
        "id": "683ezatsPorW"
      },
      "outputs": [],
      "source": [
        "!mkdir Artifacts"
      ]
    },
    {
      "cell_type": "code",
      "execution_count": null,
      "metadata": {},
      "outputs": [],
      "source": []
    },
    {
      "cell_type": "code",
      "execution_count": 27,
      "metadata": {
        "id": "XA-KW7eePopd"
      },
      "outputs": [
        {
          "name": "stderr",
          "output_type": "stream",
          "text": [
            "WARNING:absl:Found untraced functions such as _update_step_xla while saving (showing 1 of 1). These functions will not be directly callable after loading.\n"
          ]
        },
        {
          "ename": "NotFoundError",
          "evalue": "{{function_node __wrapped__SaveV2_dtypes_31_device_/job:localhost/replica:0/task:0/device:CPU:0}} Failed to create a NewWriteableFile: Artifacts/my_model\\variables\\variables_temp/part-00000-of-00001.data-00000-of-00001.tempstate8109831845108795328 : The system cannot find the path specified.\r\n; No such process [Op:SaveV2]",
          "output_type": "error",
          "traceback": [
            "\u001b[1;31m---------------------------------------------------------------------------\u001b[0m",
            "\u001b[1;31mNotFoundError\u001b[0m                             Traceback (most recent call last)",
            "Cell \u001b[1;32mIn[27], line 1\u001b[0m\n\u001b[1;32m----> 1\u001b[0m model\u001b[39m.\u001b[39;49msave(\u001b[39m'\u001b[39;49m\u001b[39mArtifacts/my_model\u001b[39;49m\u001b[39m'\u001b[39;49m)\n\u001b[0;32m      2\u001b[0m model_pred \u001b[39m=\u001b[39m tf\u001b[39m.\u001b[39mkeras\u001b[39m.\u001b[39mmodels\u001b[39m.\u001b[39mload_model(\u001b[39m'\u001b[39m\u001b[39mArtifacts/my_model\u001b[39m\u001b[39m'\u001b[39m)\n",
            "File \u001b[1;32mc:\\Users\\daniel.riandy\\Desktop\\Daniel\\___\\Computer Vision Specialist\\CVenv\\lib\\site-packages\\keras\\utils\\traceback_utils.py:70\u001b[0m, in \u001b[0;36mfilter_traceback.<locals>.error_handler\u001b[1;34m(*args, **kwargs)\u001b[0m\n\u001b[0;32m     67\u001b[0m     filtered_tb \u001b[39m=\u001b[39m _process_traceback_frames(e\u001b[39m.\u001b[39m__traceback__)\n\u001b[0;32m     68\u001b[0m     \u001b[39m# To get the full stack trace, call:\u001b[39;00m\n\u001b[0;32m     69\u001b[0m     \u001b[39m# `tf.debugging.disable_traceback_filtering()`\u001b[39;00m\n\u001b[1;32m---> 70\u001b[0m     \u001b[39mraise\u001b[39;00m e\u001b[39m.\u001b[39mwith_traceback(filtered_tb) \u001b[39mfrom\u001b[39;00m \u001b[39mNone\u001b[39m\n\u001b[0;32m     71\u001b[0m \u001b[39mfinally\u001b[39;00m:\n\u001b[0;32m     72\u001b[0m     \u001b[39mdel\u001b[39;00m filtered_tb\n",
            "File \u001b[1;32mc:\\Users\\daniel.riandy\\Desktop\\Daniel\\___\\Computer Vision Specialist\\CVenv\\lib\\site-packages\\tensorflow\\python\\eager\\execute.py:52\u001b[0m, in \u001b[0;36mquick_execute\u001b[1;34m(op_name, num_outputs, inputs, attrs, ctx, name)\u001b[0m\n\u001b[0;32m     50\u001b[0m \u001b[39mtry\u001b[39;00m:\n\u001b[0;32m     51\u001b[0m   ctx\u001b[39m.\u001b[39mensure_initialized()\n\u001b[1;32m---> 52\u001b[0m   tensors \u001b[39m=\u001b[39m pywrap_tfe\u001b[39m.\u001b[39mTFE_Py_Execute(ctx\u001b[39m.\u001b[39m_handle, device_name, op_name,\n\u001b[0;32m     53\u001b[0m                                       inputs, attrs, num_outputs)\n\u001b[0;32m     54\u001b[0m \u001b[39mexcept\u001b[39;00m core\u001b[39m.\u001b[39m_NotOkStatusException \u001b[39mas\u001b[39;00m e:\n\u001b[0;32m     55\u001b[0m   \u001b[39mif\u001b[39;00m name \u001b[39mis\u001b[39;00m \u001b[39mnot\u001b[39;00m \u001b[39mNone\u001b[39;00m:\n",
            "\u001b[1;31mNotFoundError\u001b[0m: {{function_node __wrapped__SaveV2_dtypes_31_device_/job:localhost/replica:0/task:0/device:CPU:0}} Failed to create a NewWriteableFile: Artifacts/my_model\\variables\\variables_temp/part-00000-of-00001.data-00000-of-00001.tempstate8109831845108795328 : The system cannot find the path specified.\r\n; No such process [Op:SaveV2]"
          ]
        }
      ],
      "source": [
        "import pickle\n",
        "with open('./Artifacts/model.bin', 'wb') as f_out:\n",
        "    pickle.dump(model, f_out)\n",
        "with open('./Artifacts/scaler.bin', 'wb') as f_out:\n",
        "    pickle.dump(scaler, f_out)\n"
      ]
    },
    {
      "cell_type": "code",
      "execution_count": null,
      "metadata": {
        "id": "RxUqv-lXPonL"
      },
      "outputs": [],
      "source": []
    },
    {
      "cell_type": "code",
      "execution_count": null,
      "metadata": {
        "id": "onMAydQbPolF"
      },
      "outputs": [],
      "source": []
    }
  ],
  "metadata": {
    "accelerator": "GPU",
    "colab": {
      "provenance": []
    },
    "gpuClass": "standard",
    "kernelspec": {
      "display_name": "Python 3",
      "name": "python3"
    },
    "language_info": {
      "codemirror_mode": {
        "name": "ipython",
        "version": 3
      },
      "file_extension": ".py",
      "mimetype": "text/x-python",
      "name": "python",
      "nbconvert_exporter": "python",
      "pygments_lexer": "ipython3",
      "version": "3.9.12"
    }
  },
  "nbformat": 4,
  "nbformat_minor": 0
}
